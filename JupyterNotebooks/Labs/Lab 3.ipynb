{
 "cells": [
  {
   "cell_type": "markdown",
   "metadata": {},
   "source": [
    "# Lab Two\n",
    "---\n",
    "\n",
    "For this lab we're going to get into logic\n",
    "\n",
    "Our Goals are:\n",
    "- Using Conditionals\n",
    "- Using Loops\n",
    "- Creating a Function\n",
    "- Using a Class"
   ]
  },
  {
   "cell_type": "code",
   "execution_count": 6,
   "metadata": {},
   "outputs": [],
   "source": [
    "# Create an if statement\n",
    "a = 10\n",
    "b = 12\n",
    "\n",
    "if b < a:\n",
    "    print(\"b is greater then a\")"
   ]
  },
  {
   "cell_type": "code",
   "execution_count": 7,
   "metadata": {},
   "outputs": [
    {
     "name": "stdout",
     "output_type": "stream",
     "text": [
      "B\n"
     ]
    }
   ],
   "source": [
    "# Create an if else statement\n",
    "a = 10\n",
    "b = 12\n",
    "\n",
    "\n",
    "print(\"A\") if a > b else print(\"B\")"
   ]
  },
  {
   "cell_type": "code",
   "execution_count": 8,
   "metadata": {},
   "outputs": [
    {
     "name": "stdout",
     "output_type": "stream",
     "text": [
      "b is greater than a\n"
     ]
    }
   ],
   "source": [
    "# Create an if elif else statement\n",
    "\n",
    "if b > a:\n",
    "  print(\"b is greater than a\")\n",
    "elif a == b:\n",
    "  print(\"a and b are equal\")\n",
    "else:\n",
    "    print(\"error\")"
   ]
  },
  {
   "cell_type": "code",
   "execution_count": 9,
   "metadata": {},
   "outputs": [
    {
     "name": "stdout",
     "output_type": "stream",
     "text": [
      "0\n",
      "1\n",
      "2\n",
      "3\n",
      "4\n",
      "5\n"
     ]
    }
   ],
   "source": [
    "# Create a for loop using range(). Go from 0 to 9. Print out each number.\n",
    "for x in range(6):\n",
    "  print(x)"
   ]
  },
  {
   "cell_type": "code",
   "execution_count": 12,
   "metadata": {},
   "outputs": [
    {
     "name": "stdout",
     "output_type": "stream",
     "text": [
      "['Blue', 'Yellow', 'Red', 'Green', 'Purple', 'Magenta', 'Lilac']\n"
     ]
    }
   ],
   "source": [
    "# Create a for loop iterating through this list and printing out the value.\n",
    "arr = ['Blue', 'Yellow', 'Red', 'Green', 'Purple', 'Magenta', 'Lilac']\n",
    "\n",
    "# Get the length of the list above and print it.\n",
    "\n",
    "for x in range(1):\n",
    "  print(arr)"
   ]
  },
  {
   "cell_type": "code",
   "execution_count": 13,
   "metadata": {},
   "outputs": [
    {
     "name": "stdout",
     "output_type": "stream",
     "text": [
      "1\n",
      "2\n",
      "3\n",
      "4\n",
      "5\n",
      "6\n"
     ]
    }
   ],
   "source": [
    "# Create a while loop that ends after 6 times through. Print something for each pass.\n",
    "\n",
    "x = 0\n",
    "\n",
    "for x in range(6):\n",
    "  print(x + 1)"
   ]
  },
  {
   "cell_type": "code",
   "execution_count": 14,
   "metadata": {
    "tags": []
   },
   "outputs": [
    {
     "name": "stdout",
     "output_type": "stream",
     "text": [
      "2\n",
      "3\n",
      "4\n",
      "5\n",
      "6\n",
      "7\n"
     ]
    }
   ],
   "source": [
    "# Create a function to add 2 numbers together. Print out the number\n",
    "\n",
    "x = 0\n",
    "\n",
    "for x in range(6):\n",
    "  print(x + 2)"
   ]
  },
  {
   "cell_type": "code",
   "execution_count": 21,
   "metadata": {},
   "outputs": [],
   "source": [
    "# Create a function that tells you if a number is odd or even and print the result.\n",
    "\n",
    "num = int(input(\"Enter a number: \"))\n",
    "if (num % 2) == 0:\n",
    "   print(\"{0} is Even\".format(num))\n",
    "else:\n",
    "   print(\"{0} is Odd\".format(num))"
   ]
  },
  {
   "cell_type": "code",
   "execution_count": 1,
   "metadata": {
    "tags": []
   },
   "outputs": [],
   "source": [
    "# Initialize an instance of the following class. Use a variable to store the object and then call the info function to print out the attributes.\n",
    "class Dog(object):\n",
    "    def __init__(self, name, height, weight, breed):\n",
    "        self.name = name\n",
    "        self.height = height\n",
    "        self.weight = weight\n",
    "        self.breed = breed\n",
    "\n",
    "    def info(self):\n",
    "        print(\"Name:\", self.name)\n",
    "        print(\"Weight:\", str(self.weight) + \" Pounds\")\n",
    "        print(\"Height:\", str(self.height) + \" Inches\")\n",
    "        print(\"Breed:\", self.breed)\n",
    "    "
   ]
  }
 ],
 "metadata": {
  "interpreter": {
   "hash": "0e61b39a1a285d9894eaf6775ff8ee965820611d2b7ee9c6a074ba7a10fd3efe"
  },
  "kernelspec": {
   "display_name": "Python 3.8.5 64-bit",
   "language": "python",
   "name": "python3"
  },
  "language_info": {
   "codemirror_mode": {
    "name": "ipython",
    "version": 3
   },
   "file_extension": ".py",
   "mimetype": "text/x-python",
   "name": "python",
   "nbconvert_exporter": "python",
   "pygments_lexer": "ipython3",
   "version": "3.9.5"
  },
  "orig_nbformat": 2
 },
 "nbformat": 4,
 "nbformat_minor": 2
}
